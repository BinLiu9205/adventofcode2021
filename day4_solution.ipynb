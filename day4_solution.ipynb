{
 "cells": [
  {
   "cell_type": "code",
   "execution_count": 4,
   "metadata": {},
   "outputs": [],
   "source": [
    "import numpy as np\n",
    "import re"
   ]
  },
  {
   "cell_type": "code",
   "execution_count": 5,
   "metadata": {},
   "outputs": [],
   "source": [
    "with open('inputDay4.txt') as f:\n",
    "    first_line = f.readline().rstrip()"
   ]
  },
  {
   "cell_type": "code",
   "execution_count": 6,
   "metadata": {},
   "outputs": [],
   "source": [
    "original_no_list = first_line.split(sep = \",\")"
   ]
  },
  {
   "cell_type": "code",
   "execution_count": 7,
   "metadata": {},
   "outputs": [],
   "source": [
    "original_no_list_int = [int(i) for i in original_no_list]"
   ]
  },
  {
   "cell_type": "code",
   "execution_count": 8,
   "metadata": {},
   "outputs": [
    {
     "name": "stdout",
     "output_type": "stream",
     "text": [
      "[[49, 0, 9, 90, 8], [41, 88, 56, 13, 6], [17, 11, 45, 26, 75], [29, 62, 27, 83, 36], [31, 78, 1, 55, 38]]\n"
     ]
    }
   ],
   "source": [
    "board_dict = {}\n",
    "\n",
    "counter = 0\n",
    "board = []\n",
    "with open('inputDay4.txt', 'r') as f:\n",
    "    for row in f.readlines()[2:]:\n",
    "        row = row[:-1]\n",
    "        tem_res = row.split('\\t')\n",
    "        trim_res = tem_res[0].split(' ')\n",
    "        if trim_res != ['']:\n",
    "            trim_res = [int(i) for i in trim_res if i !='']\n",
    "            board.append(trim_res)\n",
    "        else: \n",
    "            board_dict[counter] = board\n",
    "            counter += 1\n",
    "            board = []\n",
    "\n",
    "print(board_dict[0])\n"
   ]
  },
  {
   "cell_type": "markdown",
   "metadata": {},
   "source": [
    "Thanks to quodponb from reddit for the two functions\n",
    "https://www.reddit.com/r/adventofcode/comments/r8i1lq/2021_day_4_solutions/"
   ]
  },
  {
   "cell_type": "code",
   "execution_count": 9,
   "metadata": {},
   "outputs": [],
   "source": [
    "def has_won(board, called_numbers):\n",
    "    return any(all(num in called_numbers for num in line) for line in [*board, *zip(*board)])\n"
   ]
  },
  {
   "cell_type": "code",
   "execution_count": 10,
   "metadata": {},
   "outputs": [],
   "source": [
    "def score(board, called_numbers, last_number):\n",
    "    return last_number * sum(num for line in board for num in line if num not in called_numbers)"
   ]
  },
  {
   "cell_type": "code",
   "execution_count": 20,
   "metadata": {},
   "outputs": [],
   "source": [
    "called_numbers = []\n",
    "win_score = 0\n",
    "winner_id = []\n",
    "for num in original_no_list_int:\n",
    "    called_numbers.append(num)\n",
    "    for key in board_dict:\n",
    "        if key not in winner_id:\n",
    "            board_single = board_dict[key]\n",
    "            if has_won(board_single, called_numbers):\n",
    "                win_id = key\n",
    "                win_score = score(board_single, called_numbers,num)\n",
    "                winner_id.append(key)\n",
    "        else:\n",
    "            continue"
   ]
  },
  {
   "cell_type": "code",
   "execution_count": 21,
   "metadata": {},
   "outputs": [
    {
     "data": {
      "text/plain": [
       "6594"
      ]
     },
     "execution_count": 21,
     "metadata": {},
     "output_type": "execute_result"
    }
   ],
   "source": [
    "win_score                        \n"
   ]
  }
 ],
 "metadata": {
  "interpreter": {
   "hash": "13eb0af71620a846e484681143862ad0a4deab6cadfc353264e5c14897c11035"
  },
  "kernelspec": {
   "display_name": "Python 3.9.9 64-bit",
   "language": "python",
   "name": "python3"
  },
  "language_info": {
   "codemirror_mode": {
    "name": "ipython",
    "version": 3
   },
   "file_extension": ".py",
   "mimetype": "text/x-python",
   "name": "python",
   "nbconvert_exporter": "python",
   "pygments_lexer": "ipython3",
   "version": "3.9.9"
  },
  "orig_nbformat": 4
 },
 "nbformat": 4,
 "nbformat_minor": 2
}
