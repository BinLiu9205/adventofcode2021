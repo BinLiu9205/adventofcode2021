{
 "cells": [
  {
   "cell_type": "markdown",
   "metadata": {},
   "source": [
    "The code is adapted from: https://github.com/Bruception/advent-of-code-2021/blob/main/day15/\n",
    "First time hearing about heapq"
   ]
  },
  {
   "cell_type": "code",
   "execution_count": 35,
   "metadata": {},
   "outputs": [],
   "source": [
    "import heapq\n",
    "import sys"
   ]
  },
  {
   "cell_type": "code",
   "execution_count": 36,
   "metadata": {},
   "outputs": [],
   "source": [
    "inputData = []"
   ]
  },
  {
   "cell_type": "code",
   "execution_count": 37,
   "metadata": {},
   "outputs": [],
   "source": [
    "with open('inputDay15.txt') as file:\n",
    "    for line in file.read().split('\\n'):\n",
    "        inputData.append(list(map(int, line)))"
   ]
  },
  {
   "cell_type": "code",
   "execution_count": 38,
   "metadata": {},
   "outputs": [],
   "source": [
    "rows, cols = len(inputData), len(inputData[0])"
   ]
  },
  {
   "cell_type": "code",
   "execution_count": 39,
   "metadata": {},
   "outputs": [],
   "source": [
    "directions = [(-1,0),(1,0),(0,1),(0,-1)]"
   ]
  },
  {
   "cell_type": "code",
   "execution_count": 40,
   "metadata": {},
   "outputs": [],
   "source": [
    "risk = {(i,j):sys.maxsize for i in range(rows) for j in range(cols)}\n",
    "queue_val = [(0,(0,0))]"
   ]
  },
  {
   "cell_type": "code",
   "execution_count": 41,
   "metadata": {},
   "outputs": [],
   "source": [
    "while (queue_val):\n",
    "    current_risk, pos = heapq.heappop(queue_val)\n",
    "    for di, dj in directions:\n",
    "        ni, nj = di + pos[0], dj + pos[1]\n",
    "        adj_pos = (ni,nj) \n",
    "        if adj_pos in risk:\n",
    "            new_risk = current_risk + inputData[ni][nj]\n",
    "            if new_risk < risk[adj_pos]:\n",
    "                risk[adj_pos] = new_risk\n",
    "                heapq.heappush(queue_val, (new_risk, adj_pos))"
   ]
  },
  {
   "cell_type": "code",
   "execution_count": 42,
   "metadata": {},
   "outputs": [
    {
     "data": {
      "text/plain": [
       "824"
      ]
     },
     "execution_count": 42,
     "metadata": {},
     "output_type": "execute_result"
    }
   ],
   "source": [
    "risk[(rows-1, cols-1)]"
   ]
  },
  {
   "cell_type": "code",
   "execution_count": 43,
   "metadata": {},
   "outputs": [],
   "source": [
    "new_rows, new_cols = rows*5, cols*5"
   ]
  },
  {
   "cell_type": "code",
   "execution_count": 44,
   "metadata": {},
   "outputs": [],
   "source": [
    "def risk_score(i, j):\n",
    "    risk = ((i // rows) + (j // cols) + inputData[i % rows][j % cols]) % 9\n",
    "    return 9 if risk == 0 else risk"
   ]
  },
  {
   "cell_type": "code",
   "execution_count": 45,
   "metadata": {},
   "outputs": [],
   "source": [
    "risk = {(i, j): sys.maxsize for i in range(new_rows) for j in range(new_cols)}\n",
    "queue_val = [(0,(0,0))]"
   ]
  },
  {
   "cell_type": "code",
   "execution_count": 46,
   "metadata": {},
   "outputs": [],
   "source": [
    "while (queue_val):\n",
    "    current_risk, pos = heapq.heappop(queue_val)\n",
    "    for di, dj in directions:\n",
    "        ni, nj = di + pos[0], dj + pos[1]\n",
    "        adj_pos = (ni,nj) \n",
    "        if adj_pos in risk:\n",
    "            new_risk = current_risk + risk_score(*adj_pos)\n",
    "            if new_risk < risk[adj_pos]:\n",
    "                risk[adj_pos] = new_risk\n",
    "                heapq.heappush(queue_val, (new_risk, adj_pos))"
   ]
  },
  {
   "cell_type": "code",
   "execution_count": 47,
   "metadata": {},
   "outputs": [
    {
     "data": {
      "text/plain": [
       "3063"
      ]
     },
     "execution_count": 47,
     "metadata": {},
     "output_type": "execute_result"
    }
   ],
   "source": [
    "risk[(new_rows-1, new_cols-1)]"
   ]
  }
 ],
 "metadata": {
  "interpreter": {
   "hash": "13eb0af71620a846e484681143862ad0a4deab6cadfc353264e5c14897c11035"
  },
  "kernelspec": {
   "display_name": "Python 3.9.9 64-bit",
   "language": "python",
   "name": "python3"
  },
  "language_info": {
   "codemirror_mode": {
    "name": "ipython",
    "version": 3
   },
   "file_extension": ".py",
   "mimetype": "text/x-python",
   "name": "python",
   "nbconvert_exporter": "python",
   "pygments_lexer": "ipython3",
   "version": "3.9.9"
  },
  "orig_nbformat": 4
 },
 "nbformat": 4,
 "nbformat_minor": 2
}
