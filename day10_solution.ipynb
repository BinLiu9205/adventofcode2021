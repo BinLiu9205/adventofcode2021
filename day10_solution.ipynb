{
 "cells": [
  {
   "cell_type": "code",
   "execution_count": 8,
   "metadata": {},
   "outputs": [],
   "source": [
    "with open('./inputDay10.txt') as file:\n",
    "    data = file.read().splitlines()"
   ]
  },
  {
   "cell_type": "code",
   "execution_count": 9,
   "metadata": {},
   "outputs": [],
   "source": [
    "dict_brackets = {'[': ']', '{': '}', '<':'>', '(' :')'}"
   ]
  },
  {
   "cell_type": "code",
   "execution_count": 10,
   "metadata": {},
   "outputs": [],
   "source": [
    "point = 0\n",
    "for idx in data:\n",
    "    stack = []\n",
    "    for char in idx:\n",
    "        if char in dict_brackets:\n",
    "            stack.append(char)\n",
    "        elif char == dict_brackets[stack[-1]]:\n",
    "            stack.pop()\n",
    "        else:\n",
    "            if char == ')':\n",
    "                point += 3\n",
    "            elif char == ']':\n",
    "                point += 57\n",
    "            elif char == '}':\n",
    "                point += 1197\n",
    "            elif char == '>':\n",
    "                point += 25137\n",
    "            break"
   ]
  },
  {
   "cell_type": "code",
   "execution_count": 11,
   "metadata": {},
   "outputs": [
    {
     "name": "stdout",
     "output_type": "stream",
     "text": [
      "367059\n"
     ]
    }
   ],
   "source": [
    "print(point)"
   ]
  },
  {
   "cell_type": "code",
   "execution_count": 12,
   "metadata": {},
   "outputs": [],
   "source": [
    "res_score = []\n",
    "bracket_score = {')':1, ']':2, '}': 3, '>':4}"
   ]
  },
  {
   "cell_type": "code",
   "execution_count": 13,
   "metadata": {},
   "outputs": [
    {
     "name": "stdout",
     "output_type": "stream",
     "text": [
      "1952146692\n"
     ]
    }
   ],
   "source": [
    "for idx in data:\n",
    "    stack = []\n",
    "    corrupted = False\n",
    "    for char in idx:\n",
    "        if char in dict_brackets:\n",
    "            stack.append(char)\n",
    "        elif char == dict_brackets[stack[-1]]:\n",
    "            stack.pop()\n",
    "        else:\n",
    "            corrupted = True\n",
    "            break\n",
    "    \n",
    "    if not corrupted:\n",
    "        point = 0\n",
    "        while stack:\n",
    "            char = stack.pop()\n",
    "            key = dict_brackets[char]\n",
    "            point *= 5\n",
    "            point += bracket_score[key]\n",
    "        res_score.append(point)\n",
    "\n",
    "res_score.sort()\n",
    "n = len(res_score)\n",
    "print(res_score[n//2])"
   ]
  }
 ],
 "metadata": {
  "interpreter": {
   "hash": "13eb0af71620a846e484681143862ad0a4deab6cadfc353264e5c14897c11035"
  },
  "kernelspec": {
   "display_name": "Python 3.9.9 64-bit",
   "language": "python",
   "name": "python3"
  },
  "language_info": {
   "codemirror_mode": {
    "name": "ipython",
    "version": 3
   },
   "file_extension": ".py",
   "mimetype": "text/x-python",
   "name": "python",
   "nbconvert_exporter": "python",
   "pygments_lexer": "ipython3",
   "version": "3.9.9"
  },
  "orig_nbformat": 4
 },
 "nbformat": 4,
 "nbformat_minor": 2
}
