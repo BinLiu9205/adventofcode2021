{
 "cells": [
  {
   "cell_type": "code",
   "execution_count": 3,
   "metadata": {},
   "outputs": [],
   "source": [
    "import pandas as pd \n",
    "import numpy as np\n",
    "from collections import Counter\n"
   ]
  },
  {
   "cell_type": "code",
   "execution_count": 4,
   "metadata": {},
   "outputs": [],
   "source": [
    "with open(\"inputDay6.txt\") as file_in:\n",
    "    lines = [x.rstrip() for x in file_in]\n"
   ]
  },
  {
   "cell_type": "code",
   "execution_count": 7,
   "metadata": {},
   "outputs": [],
   "source": [
    "input_f = lines[0].split(',')"
   ]
  },
  {
   "cell_type": "code",
   "execution_count": 9,
   "metadata": {},
   "outputs": [],
   "source": [
    "input_f = [int(x) for x in input_f]"
   ]
  },
  {
   "cell_type": "code",
   "execution_count": 12,
   "metadata": {},
   "outputs": [],
   "source": [
    "def latern_fish_reproduction(List, iteration_nr):\n",
    "    for i in range(0, iteration_nr):\n",
    "        new_list = []\n",
    "        for k in List:\n",
    "            if k == 0:\n",
    "                new_list.append(6)\n",
    "                new_list.append(8)\n",
    "            else:\n",
    "                new_list.append(k-1)\n",
    "        List = new_list\n",
    "    return (len(List))"
   ]
  },
  {
   "cell_type": "code",
   "execution_count": 15,
   "metadata": {},
   "outputs": [],
   "source": [
    "trial = [3, 4, 3, 1, 2]\n",
    "iterations = 80"
   ]
  },
  {
   "cell_type": "code",
   "execution_count": 16,
   "metadata": {},
   "outputs": [
    {
     "data": {
      "text/plain": [
       "5934"
      ]
     },
     "execution_count": 16,
     "metadata": {},
     "output_type": "execute_result"
    }
   ],
   "source": [
    "latern_fish_reproduction(trial, iterations)"
   ]
  },
  {
   "cell_type": "code",
   "execution_count": 17,
   "metadata": {},
   "outputs": [
    {
     "data": {
      "text/plain": [
       "360761"
      ]
     },
     "execution_count": 17,
     "metadata": {},
     "output_type": "execute_result"
    }
   ],
   "source": [
    "latern_fish_reproduction(input_f, 80)"
   ]
  },
  {
   "cell_type": "code",
   "execution_count": 103,
   "metadata": {},
   "outputs": [],
   "source": [
    "def latern_fish_reproduction_dev(List, iteration_nr):\n",
    "    iter_list =list(range(0,9))\n",
    "    current_status = dict(Counter(List))\n",
    "    new_status = {}\n",
    "    for k in range(iteration_nr):\n",
    "        if 0 in current_status:\n",
    "            add_ele = current_status[0]\n",
    "        else:\n",
    "            add_ele = 0\n",
    "        for i in iter_list:\n",
    "            if i in current_status and i!= 0:\n",
    "                new_status[i-1] = current_status[i]\n",
    "        if 6 in new_status:\n",
    "            new_status[6] = new_status[6] + add_ele\n",
    "        else:\n",
    "            new_status[6] = add_ele\n",
    "        new_status[8] = add_ele\n",
    "        current_status = new_status\n",
    "        new_status = {}\n",
    "    return (sum(current_status.values()))\n"
   ]
  },
  {
   "cell_type": "code",
   "execution_count": 104,
   "metadata": {},
   "outputs": [
    {
     "data": {
      "text/plain": [
       "5934"
      ]
     },
     "execution_count": 104,
     "metadata": {},
     "output_type": "execute_result"
    }
   ],
   "source": [
    "latern_fish_reproduction_dev(trial,80)"
   ]
  },
  {
   "cell_type": "code",
   "execution_count": 105,
   "metadata": {},
   "outputs": [
    {
     "data": {
      "text/plain": [
       "1632779838045"
      ]
     },
     "execution_count": 105,
     "metadata": {},
     "output_type": "execute_result"
    }
   ],
   "source": [
    "latern_fish_reproduction_dev(input_f, 256)\n"
   ]
  }
 ],
 "metadata": {
  "kernelspec": {
   "display_name": "Python 3 (ipykernel)",
   "name": "python3"
  },
  "language_info": {
   "codemirror_mode": {
    "name": "ipython",
    "version": 3
   },
   "file_extension": ".py",
   "mimetype": "text/x-python",
   "name": "python",
   "nbconvert_exporter": "python",
   "pygments_lexer": "ipython3",
   "version": "3.9.9"
  },
  "orig_nbformat": 2
 },
 "nbformat": 4,
 "nbformat_minor": 2
}
