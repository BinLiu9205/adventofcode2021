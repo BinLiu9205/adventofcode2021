{
 "cells": [
  {
   "cell_type": "code",
   "execution_count": 1,
   "metadata": {},
   "outputs": [],
   "source": [
    "import pandas as pd\n",
    "import numpy as np"
   ]
  },
  {
   "cell_type": "code",
   "execution_count": 2,
   "metadata": {},
   "outputs": [],
   "source": [
    "df = pd.read_csv('inputDay5.txt', header=None)"
   ]
  },
  {
   "cell_type": "code",
   "execution_count": 3,
   "metadata": {},
   "outputs": [
    {
     "data": {
      "text/html": [
       "<div>\n",
       "<style scoped>\n",
       "    .dataframe tbody tr th:only-of-type {\n",
       "        vertical-align: middle;\n",
       "    }\n",
       "\n",
       "    .dataframe tbody tr th {\n",
       "        vertical-align: top;\n",
       "    }\n",
       "\n",
       "    .dataframe thead th {\n",
       "        text-align: right;\n",
       "    }\n",
       "</style>\n",
       "<table border=\"1\" class=\"dataframe\">\n",
       "  <thead>\n",
       "    <tr style=\"text-align: right;\">\n",
       "      <th></th>\n",
       "      <th>0</th>\n",
       "      <th>1</th>\n",
       "      <th>2</th>\n",
       "    </tr>\n",
       "  </thead>\n",
       "  <tbody>\n",
       "    <tr>\n",
       "      <th>0</th>\n",
       "      <td>565</td>\n",
       "      <td>190 -&gt; 756</td>\n",
       "      <td>381</td>\n",
       "    </tr>\n",
       "    <tr>\n",
       "      <th>1</th>\n",
       "      <td>402</td>\n",
       "      <td>695 -&gt; 402</td>\n",
       "      <td>138</td>\n",
       "    </tr>\n",
       "    <tr>\n",
       "      <th>2</th>\n",
       "      <td>271</td>\n",
       "      <td>844 -&gt; 98</td>\n",
       "      <td>844</td>\n",
       "    </tr>\n",
       "    <tr>\n",
       "      <th>3</th>\n",
       "      <td>276</td>\n",
       "      <td>41 -&gt; 276</td>\n",
       "      <td>282</td>\n",
       "    </tr>\n",
       "    <tr>\n",
       "      <th>4</th>\n",
       "      <td>12</td>\n",
       "      <td>93 -&gt; 512</td>\n",
       "      <td>593</td>\n",
       "    </tr>\n",
       "  </tbody>\n",
       "</table>\n",
       "</div>"
      ],
      "text/plain": [
       "     0           1    2\n",
       "0  565  190 -> 756  381\n",
       "1  402  695 -> 402  138\n",
       "2  271   844 -> 98  844\n",
       "3  276   41 -> 276  282\n",
       "4   12   93 -> 512  593"
      ]
     },
     "execution_count": 3,
     "metadata": {},
     "output_type": "execute_result"
    }
   ],
   "source": [
    "df.head()"
   ]
  },
  {
   "cell_type": "code",
   "execution_count": 4,
   "metadata": {},
   "outputs": [],
   "source": [
    "df[[3,4]] = df[1].str.split('->', 1, expand=True)"
   ]
  },
  {
   "cell_type": "code",
   "execution_count": 5,
   "metadata": {},
   "outputs": [],
   "source": [
    "#df.head(2)"
   ]
  },
  {
   "cell_type": "code",
   "execution_count": 6,
   "metadata": {},
   "outputs": [],
   "source": [
    "df_new = df.iloc[:,[0,3,4,2]]\n",
    "df_new.columns = ['X_start', 'Y_start','X_end', 'Y_end']"
   ]
  },
  {
   "cell_type": "code",
   "execution_count": 7,
   "metadata": {},
   "outputs": [
    {
     "data": {
      "text/html": [
       "<div>\n",
       "<style scoped>\n",
       "    .dataframe tbody tr th:only-of-type {\n",
       "        vertical-align: middle;\n",
       "    }\n",
       "\n",
       "    .dataframe tbody tr th {\n",
       "        vertical-align: top;\n",
       "    }\n",
       "\n",
       "    .dataframe thead th {\n",
       "        text-align: right;\n",
       "    }\n",
       "</style>\n",
       "<table border=\"1\" class=\"dataframe\">\n",
       "  <thead>\n",
       "    <tr style=\"text-align: right;\">\n",
       "      <th></th>\n",
       "      <th>X_start</th>\n",
       "      <th>Y_start</th>\n",
       "      <th>X_end</th>\n",
       "      <th>Y_end</th>\n",
       "    </tr>\n",
       "  </thead>\n",
       "  <tbody>\n",
       "    <tr>\n",
       "      <th>0</th>\n",
       "      <td>565</td>\n",
       "      <td>190</td>\n",
       "      <td>756</td>\n",
       "      <td>381</td>\n",
       "    </tr>\n",
       "    <tr>\n",
       "      <th>1</th>\n",
       "      <td>402</td>\n",
       "      <td>695</td>\n",
       "      <td>402</td>\n",
       "      <td>138</td>\n",
       "    </tr>\n",
       "    <tr>\n",
       "      <th>2</th>\n",
       "      <td>271</td>\n",
       "      <td>844</td>\n",
       "      <td>98</td>\n",
       "      <td>844</td>\n",
       "    </tr>\n",
       "    <tr>\n",
       "      <th>3</th>\n",
       "      <td>276</td>\n",
       "      <td>41</td>\n",
       "      <td>276</td>\n",
       "      <td>282</td>\n",
       "    </tr>\n",
       "    <tr>\n",
       "      <th>4</th>\n",
       "      <td>12</td>\n",
       "      <td>93</td>\n",
       "      <td>512</td>\n",
       "      <td>593</td>\n",
       "    </tr>\n",
       "  </tbody>\n",
       "</table>\n",
       "</div>"
      ],
      "text/plain": [
       "   X_start Y_start X_end  Y_end\n",
       "0      565    190    756    381\n",
       "1      402    695    402    138\n",
       "2      271    844     98    844\n",
       "3      276     41    276    282\n",
       "4       12     93    512    593"
      ]
     },
     "execution_count": 7,
     "metadata": {},
     "output_type": "execute_result"
    }
   ],
   "source": [
    "df_new.head()\n",
    "#df_new = df_new.iloc[0:2,:]"
   ]
  },
  {
   "cell_type": "code",
   "execution_count": 16,
   "metadata": {},
   "outputs": [],
   "source": [
    "init_max = np.zeros((999,999))"
   ]
  },
  {
   "cell_type": "code",
   "execution_count": 9,
   "metadata": {},
   "outputs": [],
   "source": [
    "#init_max = np.zeros((999,999))"
   ]
  },
  {
   "cell_type": "code",
   "execution_count": 10,
   "metadata": {},
   "outputs": [
    {
     "data": {
      "text/plain": [
       "' for row_nr in range(len(df_new)):\\n    row = df_new.iloc[row_nr,:]\\n    X_start = row[\"X_start\"]\\n    Y_start = row[\"Y_start\"]\\n    X_end = row[\"X_end\"]\\n    Y_end = row[\"Y_end\"]\\n    for i in range(int(X_start), int(X_end)+1):\\n        for k in range(int(Y_start), int(Y_end)+1):\\n            init_max[i][k] = init_max[i][k]+ 1 '"
      ]
     },
     "execution_count": 10,
     "metadata": {},
     "output_type": "execute_result"
    }
   ],
   "source": [
    "\"\"\" for row_nr in range(len(df_new)):\n",
    "    row = df_new.iloc[row_nr,:]\n",
    "    X_start = row[\"X_start\"]\n",
    "    Y_start = row[\"Y_start\"]\n",
    "    X_end = row[\"X_end\"]\n",
    "    Y_end = row[\"Y_end\"]\n",
    "    for i in range(int(X_start), int(X_end)+1):\n",
    "        for k in range(int(Y_start), int(Y_end)+1):\n",
    "            init_max[i][k] = init_max[i][k]+ 1 \"\"\"\n",
    "\n",
    " "
   ]
  },
  {
   "cell_type": "code",
   "execution_count": 54,
   "metadata": {},
   "outputs": [],
   "source": [
    "trial = pd.DataFrame({'X_start': [0,8,9,2,7,6,0,3,0,5], 'Y_start': [9,0,4,2,0,4,9,4,0,5], 'X_end':[5,0,3,2,7,2,2,1,8,8], 'Y_end':[9,8,4,1,4,0,9,4,8,2]}) "
   ]
  },
  {
   "cell_type": "code",
   "execution_count": 18,
   "metadata": {},
   "outputs": [],
   "source": [
    "for row_nr in range(len(df_new)):\n",
    "    row = df_new.iloc[row_nr,:]\n",
    "    X_start = int(row[\"X_start\"])\n",
    "    Y_start = int(row[\"Y_start\"])\n",
    "    X_end = int(row[\"X_end\"])\n",
    "    Y_end = int(row[\"Y_end\"])\n",
    "    X_new_start = min(X_start, X_end)\n",
    "    X_new_end = max(X_end, X_start)\n",
    "    Y_new_start = min(Y_start, Y_end)\n",
    "    Y_new_end = max(Y_end, Y_start)\n",
    "    if X_new_start == X_new_end:\n",
    "        for k in range(int(Y_new_start), int(Y_new_end)+1):\n",
    "            init_max[X_new_start][k] = init_max[X_new_start][k]+ 1\n",
    "    elif Y_new_start == Y_new_end:\n",
    "        for i in range(int(X_new_start), int(X_new_end)+1):\n",
    "            init_max[i][Y_new_end] = init_max[i][Y_new_end]+ 1"
   ]
  },
  {
   "cell_type": "code",
   "execution_count": 19,
   "metadata": {},
   "outputs": [
    {
     "name": "stdout",
     "output_type": "stream",
     "text": [
      "8622\n"
     ]
    }
   ],
   "source": [
    "print(np.count_nonzero(init_max >= 2))"
   ]
  },
  {
   "cell_type": "code",
   "execution_count": 55,
   "metadata": {},
   "outputs": [],
   "source": [
    "init_max = np.zeros((999,999))"
   ]
  },
  {
   "cell_type": "code",
   "execution_count": 56,
   "metadata": {},
   "outputs": [],
   "source": [
    "for row_nr in range(len(df_new)):\n",
    "    row = df_new.iloc[row_nr,:]\n",
    "    X_start = int(row[\"X_start\"])\n",
    "    Y_start = int(row[\"Y_start\"])\n",
    "    X_end = int(row[\"X_end\"])\n",
    "    Y_end = int(row[\"Y_end\"])\n",
    "    X_new_start = min(X_start, X_end)\n",
    "    X_new_end = max(X_end, X_start)\n",
    "    Y_new_start = min(Y_start, Y_end)\n",
    "    Y_new_end = max(Y_end, Y_start)\n",
    "    if X_new_start == X_new_end:\n",
    "        for k in range(int(Y_new_start), int(Y_new_end)+1):\n",
    "            init_max[X_new_start][k] = init_max[X_new_start][k]+ 1\n",
    "    elif Y_new_start == Y_new_end:\n",
    "        for i in range(int(X_new_start), int(X_new_end)+1):\n",
    "            init_max[i][Y_new_end] = init_max[i][Y_new_end]+ 1\n",
    "    elif X_new_start == Y_new_start and X_new_end == Y_new_end:\n",
    "        if X_start == Y_start and X_end == Y_end:\n",
    "            for j in range(X_start, X_end+1):\n",
    "                init_max[j][j] = init_max[j][j] + 1\n",
    "        elif X_start == Y_end and X_end == Y_start:\n",
    "            for m in range(X_new_start, X_new_end+1):\n",
    "                for n in range(Y_new_end+1, Y_new_start, -1):\n",
    "                    init_max[m][n] = init_max[m][n] + 1"
   ]
  },
  {
   "cell_type": "code",
   "execution_count": 36,
   "metadata": {},
   "outputs": [
    {
     "name": "stdout",
     "output_type": "stream",
     "text": [
      "8622\n"
     ]
    }
   ],
   "source": [
    "print(np.count_nonzero(init_max >= 2))"
   ]
  },
  {
   "cell_type": "code",
   "execution_count": 64,
   "metadata": {},
   "outputs": [],
   "source": [
    "init_max = np.zeros((999,999))"
   ]
  },
  {
   "cell_type": "code",
   "execution_count": 66,
   "metadata": {},
   "outputs": [],
   "source": [
    "for row_nr in range(len(df_new)):\n",
    "    row = df_new.iloc[row_nr,:]\n",
    "    X_start = int(row[\"X_start\"])\n",
    "    Y_start = int(row[\"Y_start\"])\n",
    "    X_end = int(row[\"X_end\"])\n",
    "    Y_end = int(row[\"Y_end\"])\n",
    "    X_new_start = min(X_start, X_end)\n",
    "    X_new_end = max(X_end, X_start)\n",
    "    Y_new_start = min(Y_start, Y_end)\n",
    "    Y_new_end = max(Y_end, Y_start)\n",
    "    if X_new_start == X_new_end:\n",
    "        for k in range(int(Y_new_start), int(Y_new_end)+1):\n",
    "            init_max[X_new_start][k] = init_max[X_new_start][k]+ 1\n",
    "    elif Y_new_start == Y_new_end:\n",
    "        for i in range(int(X_new_start), int(X_new_end)+1):\n",
    "            init_max[i][Y_new_end] = init_max[i][Y_new_end]+ 1\n",
    "    elif X_new_end - X_new_start == Y_new_end - Y_new_start:\n",
    "        sign_x = int((X_end - X_start)/(X_new_end - X_new_start))\n",
    "        sign_y = int((Y_end - Y_start)/(Y_new_end - Y_new_start))\n",
    "        for i in range(abs(X_end-X_start)+1):\n",
    "            init_max[X_start + sign_x*i][Y_start + sign_y*i] = init_max[X_start + sign_x*i][Y_start + sign_y*i] + 1"
   ]
  },
  {
   "cell_type": "code",
   "execution_count": 67,
   "metadata": {},
   "outputs": [
    {
     "name": "stdout",
     "output_type": "stream",
     "text": [
      "22037\n"
     ]
    }
   ],
   "source": [
    "print(np.count_nonzero(init_max >= 2))"
   ]
  }
 ],
 "metadata": {
  "interpreter": {
   "hash": "13eb0af71620a846e484681143862ad0a4deab6cadfc353264e5c14897c11035"
  },
  "kernelspec": {
   "display_name": "Python 3.9.9 64-bit",
   "language": "python",
   "name": "python3"
  },
  "language_info": {
   "codemirror_mode": {
    "name": "ipython",
    "version": 3
   },
   "file_extension": ".py",
   "mimetype": "text/x-python",
   "name": "python",
   "nbconvert_exporter": "python",
   "pygments_lexer": "ipython3",
   "version": "3.9.9"
  },
  "orig_nbformat": 4
 },
 "nbformat": 4,
 "nbformat_minor": 2
}
