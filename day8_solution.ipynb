{
 "cells": [
  {
   "cell_type": "code",
   "execution_count": 1,
   "metadata": {},
   "outputs": [],
   "source": [
    "import numpy as np\n",
    "from itertools import chain"
   ]
  },
  {
   "cell_type": "code",
   "execution_count": 2,
   "metadata": {},
   "outputs": [],
   "source": [
    "with open(\"inputDay8.txt\") as file_in:\n",
    "    lines = [x.rstrip() for x in file_in]"
   ]
  },
  {
   "cell_type": "code",
   "execution_count": 3,
   "metadata": {},
   "outputs": [],
   "source": [
    "output = [x.split('|')[1] for x in lines]"
   ]
  },
  {
   "cell_type": "code",
   "execution_count": 4,
   "metadata": {},
   "outputs": [],
   "source": [
    "output_new = []"
   ]
  },
  {
   "cell_type": "code",
   "execution_count": 5,
   "metadata": {},
   "outputs": [],
   "source": [
    "for x in output:\n",
    "    tem = x.split(' ')\n",
    "    tem = tem[1:]\n",
    "    for i in tem:\n",
    "        output_new.append(i)"
   ]
  },
  {
   "cell_type": "code",
   "execution_count": 6,
   "metadata": {},
   "outputs": [],
   "source": [
    "char_len = list(map(len, output_new))"
   ]
  },
  {
   "cell_type": "code",
   "execution_count": 7,
   "metadata": {},
   "outputs": [],
   "source": [
    "res_tem = [num for num in char_len if num == 7 or num == 2 or num == 4 or num == 3]"
   ]
  },
  {
   "cell_type": "code",
   "execution_count": 8,
   "metadata": {},
   "outputs": [
    {
     "data": {
      "text/plain": [
       "344"
      ]
     },
     "execution_count": 8,
     "metadata": {},
     "output_type": "execute_result"
    }
   ],
   "source": [
    "len(res_tem)"
   ]
  },
  {
   "cell_type": "code",
   "execution_count": 9,
   "metadata": {},
   "outputs": [],
   "source": [
    "def map_res(res_list):\n",
    "    res_map = dict({0: None, 1: None, 2: None, 3: None, 4: None, 5: None, 6: None, 7: None, 8: None, 9: None})\n",
    "    len_5 = []\n",
    "    len_6 = []\n",
    "    for i in res_list:\n",
    "        if len(i) == 2: \n",
    "            res_map[1] = i\n",
    "        elif len(i) == 3: \n",
    "            res_map[7] = i\n",
    "        elif len(i) == 4: \n",
    "            res_map[4] = i\n",
    "        elif len(i) == 7:\n",
    "            res_map[8] = i\n",
    "        elif len(i) == 5:\n",
    "            len_5.append(i)\n",
    "        else: \n",
    "            len_6.append(i)\n",
    "\n",
    "    for j in len_6: \n",
    "        if not set(list(res_map[1])).issubset(set(list(j))): \n",
    "            res_map[6] = j\n",
    "        elif set(list(res_map[4])).issubset(set(list(j))):\n",
    "            res_map[9] = j\n",
    "        else:\n",
    "            res_map[0] = j\n",
    "\n",
    "    for k in len_5:\n",
    "        if (set(list(res_map[1]))).issubset(set(list(k))): \n",
    "            res_map[3] = k\n",
    "        elif len(list(set(list(res_map[6])) - set(list(k)))) == 1: \n",
    "            res_map[5] = k\n",
    "        else:\n",
    "            res_map[2] = k\n",
    "\n",
    "    #print(res_map)\n",
    "    \n",
    "    return res_map"
   ]
  },
  {
   "cell_type": "code",
   "execution_count": 10,
   "metadata": {},
   "outputs": [],
   "source": [
    "input_res = [x.split('|')[0] for x in lines]\n",
    "result_list = []"
   ]
  },
  {
   "cell_type": "code",
   "execution_count": 11,
   "metadata": {},
   "outputs": [],
   "source": [
    "for idx in range(len(input_res)):\n",
    "    input_tem = input_res[idx].split(' ')\n",
    "    input_tem = input_tem[:-1]\n",
    "    dict_res = map_res(input_tem)\n",
    "    output_tem = output[idx].split(' ')[1:]\n",
    "    start_char = ''\n",
    "    for res in output_tem:\n",
    "        for key in dict_res:\n",
    "            tem_dict = dict_res[key]\n",
    "            if set(list(tem_dict)) == set(list(res)):\n",
    "                start_char = start_char + str(key)\n",
    "    result_list.append(int(start_char))"
   ]
  },
  {
   "cell_type": "code",
   "execution_count": 12,
   "metadata": {},
   "outputs": [
    {
     "data": {
      "text/plain": [
       "1048410"
      ]
     },
     "execution_count": 12,
     "metadata": {},
     "output_type": "execute_result"
    }
   ],
   "source": [
    "sum(result_list)"
   ]
  }
 ],
 "metadata": {
  "interpreter": {
   "hash": "13eb0af71620a846e484681143862ad0a4deab6cadfc353264e5c14897c11035"
  },
  "kernelspec": {
   "display_name": "Python 3.9.9 64-bit",
   "language": "python",
   "name": "python3"
  },
  "language_info": {
   "codemirror_mode": {
    "name": "ipython",
    "version": 3
   },
   "file_extension": ".py",
   "mimetype": "text/x-python",
   "name": "python",
   "nbconvert_exporter": "python",
   "pygments_lexer": "ipython3",
   "version": "3.9.9"
  },
  "orig_nbformat": 4
 },
 "nbformat": 4,
 "nbformat_minor": 2
}
