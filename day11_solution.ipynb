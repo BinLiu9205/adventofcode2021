{
 "cells": [
  {
   "cell_type": "code",
   "execution_count": 24,
   "metadata": {},
   "outputs": [],
   "source": [
    "import numpy as np"
   ]
  },
  {
   "cell_type": "code",
   "execution_count": 25,
   "metadata": {},
   "outputs": [],
   "source": [
    "with open('./inputDay11.txt') as file:\n",
    "    data = file.read().splitlines()\n",
    "flashMap = list(list(int(x) for x in list(line)) for line in data)"
   ]
  },
  {
   "cell_type": "code",
   "execution_count": 26,
   "metadata": {},
   "outputs": [],
   "source": [
    "iteration_no = 100\n",
    "total_no = 0\n",
    "max_x = len(flashMap[0]) \n",
    "max_y = len(flashMap[1]) \n",
    "flash_no = 0\n",
    "dirs = [(0, 1), (1, 0), (0, -1), (-1, 0), (1, 1), (1, -1), (-1, 1), (-1, -1)]"
   ]
  },
  {
   "cell_type": "code",
   "execution_count": 27,
   "metadata": {},
   "outputs": [],
   "source": [
    "def flash_data(x, y , flashMap):\n",
    "    flashMap[y][x] = 0\n",
    "    global flash_no\n",
    "    flash_no += 1\n",
    "    for dx, dy in dirs:\n",
    "        nx, ny = x + dx, y + dy\n",
    "        if 0 <= nx < max_x and 0 <= ny < max_y:\n",
    "            if flashMap[ny][nx] not in [0, 10]:\n",
    "                flashMap[ny][nx] += 1\n",
    "                if flashMap[ny][nx] == 10:\n",
    "                    flash_data(nx, ny, flashMap) "
   ]
  },
  {
   "cell_type": "code",
   "execution_count": 28,
   "metadata": {},
   "outputs": [],
   "source": [
    "for i in range(iteration_no):\n",
    "    for y in range(len(flashMap)):\n",
    "        for x in range(len(flashMap[0])):\n",
    "            flashMap[y][x] += 1\n",
    "    for y in range(len(flashMap)):\n",
    "        for x in range(len(flashMap[0])):\n",
    "            if flashMap[y][x] == 10:\n",
    "                flash_data(x, y, flashMap)"
   ]
  },
  {
   "cell_type": "code",
   "execution_count": 29,
   "metadata": {},
   "outputs": [
    {
     "data": {
      "text/plain": [
       "1725"
      ]
     },
     "execution_count": 29,
     "metadata": {},
     "output_type": "execute_result"
    }
   ],
   "source": [
    "flash_no"
   ]
  },
  {
   "cell_type": "code",
   "execution_count": 30,
   "metadata": {},
   "outputs": [],
   "source": [
    "with open('./inputDay11.txt') as file:\n",
    "    data = file.read().splitlines()\n",
    "flashMap = list(list(int(x) for x in list(line)) for line in data)"
   ]
  },
  {
   "cell_type": "code",
   "execution_count": 31,
   "metadata": {},
   "outputs": [
    {
     "data": {
      "text/plain": [
       "[[4, 1, 3, 4, 3, 8, 4, 6, 2, 6],\n",
       " [7, 1, 1, 4, 5, 8, 5, 2, 5, 7],\n",
       " [1, 5, 8, 2, 5, 3, 6, 4, 8, 8],\n",
       " [4, 8, 6, 5, 7, 1, 5, 5, 3, 8],\n",
       " [5, 7, 3, 3, 4, 2, 3, 5, 1, 3],\n",
       " [8, 5, 3, 2, 1, 4, 4, 1, 8, 1],\n",
       " [1, 2, 8, 8, 6, 1, 4, 5, 8, 3],\n",
       " [2, 2, 4, 8, 7, 1, 1, 1, 4, 1],\n",
       " [6, 4, 1, 5, 8, 7, 1, 6, 8, 1],\n",
       " [7, 8, 8, 1, 5, 3, 1, 4, 3, 8]]"
      ]
     },
     "execution_count": 31,
     "metadata": {},
     "output_type": "execute_result"
    }
   ],
   "source": [
    "flashMap"
   ]
  },
  {
   "cell_type": "code",
   "execution_count": 32,
   "metadata": {},
   "outputs": [],
   "source": [
    "iteration_no = 0\n",
    "while True:\n",
    "    for y in range(len(flashMap)):\n",
    "        for x in range(len(flashMap[0])):\n",
    "            flashMap[y][x] += 1\n",
    "    for y in range(len(flashMap)):\n",
    "        for x in range(len(flashMap[0])):\n",
    "            if flashMap[y][x] == 10:\n",
    "                flash_data(x, y, flashMap)\n",
    "    iteration_no += 1\n",
    "    zeros = 0\n",
    "    for y in range(max_y):\n",
    "        for x in range(max_x):\n",
    "            if flashMap[y][x] == 0:\n",
    "                zeros += 1\n",
    "    if zeros == max_x*max_y:\n",
    "        break"
   ]
  },
  {
   "cell_type": "code",
   "execution_count": 33,
   "metadata": {},
   "outputs": [
    {
     "name": "stdout",
     "output_type": "stream",
     "text": [
      "308\n"
     ]
    }
   ],
   "source": [
    "print(iteration_no)"
   ]
  }
 ],
 "metadata": {
  "interpreter": {
   "hash": "13eb0af71620a846e484681143862ad0a4deab6cadfc353264e5c14897c11035"
  },
  "kernelspec": {
   "display_name": "Python 3.9.9 64-bit",
   "language": "python",
   "name": "python3"
  },
  "language_info": {
   "codemirror_mode": {
    "name": "ipython",
    "version": 3
   },
   "file_extension": ".py",
   "mimetype": "text/x-python",
   "name": "python",
   "nbconvert_exporter": "python",
   "pygments_lexer": "ipython3",
   "version": "3.9.9"
  },
  "orig_nbformat": 4
 },
 "nbformat": 4,
 "nbformat_minor": 2
}
