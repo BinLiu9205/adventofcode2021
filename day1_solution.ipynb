{
 "cells": [
  {
   "cell_type": "code",
   "execution_count": 55,
   "metadata": {},
   "outputs": [],
   "source": [
    "def time_of_increases(array):\n",
    "    list_sub_1 = array[0:-1]\n",
    "    list_sub_2 = array[1:]\n",
    "    res = [int(list_sub_2[i])-int(list_sub_1[i]) for i in range(len(list_sub_1))]\n",
    "    counter = sum(i > 0 for i in res)\n",
    "    return(counter)"
   ]
  },
  {
   "cell_type": "code",
   "execution_count": 56,
   "metadata": {},
   "outputs": [],
   "source": [
    "with open(\"inputDay1.txt\") as file_in:\n",
    "    lines = [x.rstrip() for x in file_in]"
   ]
  },
  {
   "cell_type": "code",
   "execution_count": 45,
   "metadata": {},
   "outputs": [
    {
     "name": "stdout",
     "output_type": "stream",
     "text": [
      "['193', '195', '204', '208', '219']\n"
     ]
    }
   ],
   "source": [
    "print(lines[0:5])"
   ]
  },
  {
   "cell_type": "code",
   "execution_count": 52,
   "metadata": {},
   "outputs": [
    {
     "data": {
      "text/plain": [
       "2000"
      ]
     },
     "execution_count": 52,
     "metadata": {},
     "output_type": "execute_result"
    }
   ],
   "source": [
    "len(lines)"
   ]
  },
  {
   "cell_type": "code",
   "execution_count": 57,
   "metadata": {},
   "outputs": [
    {
     "name": "stdout",
     "output_type": "stream",
     "text": [
      "1832\n"
     ]
    }
   ],
   "source": [
    "print(time_of_increases(lines))"
   ]
  },
  {
   "cell_type": "code",
   "execution_count": 58,
   "metadata": {},
   "outputs": [],
   "source": [
    "def time_of_increases_modified(array):\n",
    "    list_sub_1 = array[0:-2]\n",
    "    list_sub_2 = array[1:-1]\n",
    "    list_sub_3 = array[2:]\n",
    "    res = [int(list_sub_1[i])+int(list_sub_2[i])+int(list_sub_3[i]) for i in range(len(list_sub_1))]\n",
    "    counter = time_of_increases(res)\n",
    "    return(counter)"
   ]
  },
  {
   "cell_type": "code",
   "execution_count": 59,
   "metadata": {},
   "outputs": [
    {
     "name": "stdout",
     "output_type": "stream",
     "text": [
      "1858\n"
     ]
    }
   ],
   "source": [
    "print(time_of_increases_modified(lines))"
   ]
  }
 ],
 "metadata": {
  "interpreter": {
   "hash": "13eb0af71620a846e484681143862ad0a4deab6cadfc353264e5c14897c11035"
  },
  "kernelspec": {
   "display_name": "Python 3.9.9 64-bit (windows store)",
   "language": "python",
   "name": "python3"
  },
  "language_info": {
   "codemirror_mode": {
    "name": "ipython",
    "version": 3
   },
   "file_extension": ".py",
   "mimetype": "text/x-python",
   "name": "python",
   "nbconvert_exporter": "python",
   "pygments_lexer": "ipython3",
   "version": "3.9.9"
  },
  "orig_nbformat": 4
 },
 "nbformat": 4,
 "nbformat_minor": 2
}
