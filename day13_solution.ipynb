{
 "cells": [
  {
   "cell_type": "code",
   "execution_count": 17,
   "metadata": {},
   "outputs": [],
   "source": [
    "dots = []"
   ]
  },
  {
   "cell_type": "code",
   "execution_count": 18,
   "metadata": {},
   "outputs": [],
   "source": [
    "with open('./inputDay13_dots.txt') as f:\n",
    "    for line in f.readlines():\n",
    "        dots.append((int(line.strip().split(',')[0]),int(line.strip().split(',')[1])))"
   ]
  },
  {
   "cell_type": "code",
   "execution_count": 19,
   "metadata": {},
   "outputs": [],
   "source": [
    "axis_list = []\n",
    "position_list = []"
   ]
  },
  {
   "cell_type": "code",
   "execution_count": 20,
   "metadata": {},
   "outputs": [],
   "source": [
    "with open('./inputDay13_fold_instructions.txt') as f:\n",
    "    for line in f.readlines():\n",
    "        axis_list.append(line.strip().split('=')[0])\n",
    "        position_list.append(int(line.strip().split('=')[1]))"
   ]
  },
  {
   "cell_type": "code",
   "execution_count": 21,
   "metadata": {},
   "outputs": [
    {
     "name": "stdout",
     "output_type": "stream",
     "text": [
      "716\n"
     ]
    }
   ],
   "source": [
    "axis = axis_list[0]\n",
    "position = int(position_list[0])\n",
    "for i in range(len(dots)):\n",
    "    x, y = int(dots[i][0]), int(dots[i][1])\n",
    "    if axis == \"x\" and  x > position:\n",
    "        dots[i] = (2*position - x,y)\n",
    "    if axis == \"y\" and  y > position:\n",
    "        dots[i] = (x,2*position - y)\n",
    "\n",
    "print(len(set(dots)))\n",
    "\n"
   ]
  },
  {
   "cell_type": "code",
   "execution_count": 22,
   "metadata": {},
   "outputs": [],
   "source": [
    "with open('./inputDay13_dots.txt') as f:\n",
    "    for line in f.readlines():\n",
    "        dots.append((int(line.strip().split(',')[0]),int(line.strip().split(',')[1])))"
   ]
  },
  {
   "cell_type": "code",
   "execution_count": 26,
   "metadata": {},
   "outputs": [
    {
     "name": "stdout",
     "output_type": "stream",
     "text": [
      "x 655\n",
      "y 447\n",
      "x 327\n",
      "y 223\n",
      "x 163\n",
      "y 111\n",
      "x 81\n",
      "y 55\n",
      "x 40\n",
      "y 27\n",
      "y 13\n",
      "y 6\n"
     ]
    }
   ],
   "source": [
    "for j in range(len(axis_list)):\n",
    "    axis = axis_list[j]\n",
    "    position = int(position_list[j])\n",
    "    print(axis, position)\n",
    "    for i in range(len(dots)):\n",
    "        x, y = int(dots[i][0]), int(dots[i][1])\n",
    "        if axis == \"x\" and  x > position:\n",
    "            dots[i] = (2*position - x,y)\n",
    "        if axis == \"y\" and  y > position:\n",
    "            dots[i] = (x,2*position - y)"
   ]
  },
  {
   "cell_type": "code",
   "execution_count": 27,
   "metadata": {},
   "outputs": [
    {
     "data": {
      "text/plain": [
       "{(0, 0),\n",
       " (0, 1),\n",
       " (0, 2),\n",
       " (0, 3),\n",
       " (0, 4),\n",
       " (0, 5),\n",
       " (1, 0),\n",
       " (1, 3),\n",
       " (2, 0),\n",
       " (2, 3),\n",
       " (2, 4),\n",
       " (3, 1),\n",
       " (3, 2),\n",
       " (3, 5),\n",
       " (5, 0),\n",
       " (5, 1),\n",
       " (5, 2),\n",
       " (5, 3),\n",
       " (5, 4),\n",
       " (5, 5),\n",
       " (6, 0),\n",
       " (6, 3),\n",
       " (7, 0),\n",
       " (7, 3),\n",
       " (8, 1),\n",
       " (8, 2),\n",
       " (10, 1),\n",
       " (10, 2),\n",
       " (10, 3),\n",
       " (10, 4),\n",
       " (11, 0),\n",
       " (11, 5),\n",
       " (12, 0),\n",
       " (12, 5),\n",
       " (13, 1),\n",
       " (13, 4),\n",
       " (15, 0),\n",
       " (15, 1),\n",
       " (15, 2),\n",
       " (15, 3),\n",
       " (15, 4),\n",
       " (15, 5),\n",
       " (16, 2),\n",
       " (17, 1),\n",
       " (17, 3),\n",
       " (17, 4),\n",
       " (18, 0),\n",
       " (18, 5),\n",
       " (20, 0),\n",
       " (20, 1),\n",
       " (20, 2),\n",
       " (20, 3),\n",
       " (20, 4),\n",
       " (20, 5),\n",
       " (21, 0),\n",
       " (21, 2),\n",
       " (22, 0),\n",
       " (22, 2),\n",
       " (23, 0),\n",
       " (25, 0),\n",
       " (25, 1),\n",
       " (25, 2),\n",
       " (25, 3),\n",
       " (25, 4),\n",
       " (25, 5),\n",
       " (26, 0),\n",
       " (26, 2),\n",
       " (26, 5),\n",
       " (27, 0),\n",
       " (27, 2),\n",
       " (27, 5),\n",
       " (28, 1),\n",
       " (28, 3),\n",
       " (28, 4),\n",
       " (30, 0),\n",
       " (30, 1),\n",
       " (30, 2),\n",
       " (30, 3),\n",
       " (30, 4),\n",
       " (30, 5),\n",
       " (31, 5),\n",
       " (32, 5),\n",
       " (33, 5),\n",
       " (35, 0),\n",
       " (35, 1),\n",
       " (35, 2),\n",
       " (35, 3),\n",
       " (35, 4),\n",
       " (35, 5),\n",
       " (36, 0),\n",
       " (36, 3),\n",
       " (37, 0),\n",
       " (37, 3),\n",
       " (37, 4),\n",
       " (38, 1),\n",
       " (38, 2),\n",
       " (38, 5)}"
      ]
     },
     "execution_count": 27,
     "metadata": {},
     "output_type": "execute_result"
    }
   ],
   "source": [
    "set(dots)"
   ]
  },
  {
   "cell_type": "code",
   "execution_count": 30,
   "metadata": {},
   "outputs": [
    {
     "name": "stdout",
     "output_type": "stream",
     "text": [
      "███  ███   ██  █  █ ████ ███  █    ███  \n",
      "█  █ █  █ █  █ █ █  █    █  █ █    █  █ \n",
      "█  █ █  █ █    ██   ███  ███  █    █  █ \n",
      "███  ███  █    █ █  █    █  █ █    ███  \n",
      "█ █  █    █  █ █ █  █    █  █ █    █ █  \n",
      "█  █ █     ██  █  █ █    ███  ████ █  █ \n"
     ]
    }
   ],
   "source": [
    "print(\"\\n\".join(\"\".join(\"█\" if (x, y) in dots else \" \" for x in range(40)) for y in range(6)))"
   ]
  }
 ],
 "metadata": {
  "interpreter": {
   "hash": "13eb0af71620a846e484681143862ad0a4deab6cadfc353264e5c14897c11035"
  },
  "kernelspec": {
   "display_name": "Python 3.9.9 64-bit",
   "language": "python",
   "name": "python3"
  },
  "language_info": {
   "codemirror_mode": {
    "name": "ipython",
    "version": 3
   },
   "file_extension": ".py",
   "mimetype": "text/x-python",
   "name": "python",
   "nbconvert_exporter": "python",
   "pygments_lexer": "ipython3",
   "version": "3.9.9"
  },
  "orig_nbformat": 4
 },
 "nbformat": 4,
 "nbformat_minor": 2
}
