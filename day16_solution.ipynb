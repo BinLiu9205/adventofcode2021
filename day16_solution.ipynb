{
 "cells": [
  {
   "cell_type": "code",
   "execution_count": 51,
   "metadata": {},
   "outputs": [],
   "source": [
    "from functools import reduce\n",
    "from operator import mul"
   ]
  },
  {
   "cell_type": "code",
   "execution_count": 52,
   "metadata": {},
   "outputs": [],
   "source": [
    "with open ('.\\inputDay16.txt') as file:\n",
    "    data_res = file.readlines()"
   ]
  },
  {
   "cell_type": "code",
   "execution_count": 53,
   "metadata": {},
   "outputs": [],
   "source": [
    "def bits_from_hex(hex_value):\n",
    "    bits = bin(int(hex_value, 16))[2:]\n",
    "    len_data = len(bits)\n",
    "    if len_data % 4 > 0:\n",
    "        bits = \"0\" * (4 - len_data % 4) + bits\n",
    "    return bits"
   ]
  },
  {
   "cell_type": "code",
   "execution_count": 54,
   "metadata": {},
   "outputs": [],
   "source": [
    "data_res_bin = bits_from_hex(data_res[0])"
   ]
  },
  {
   "cell_type": "code",
   "execution_count": 55,
   "metadata": {},
   "outputs": [],
   "source": [
    "def build_the_tree(binInput):\n",
    "    packet = {\n",
    "        'version': int(binInput[0:3],2),\n",
    "        'type_ID': int(binInput[3:6],2),\n",
    "        'children_info': []\n",
    "    }\n",
    "    if packet['type_ID'] == 4:\n",
    "        packet['value'], remaining_bits =  get_literal_value(binInput[6:])\n",
    "        return packet, remaining_bits\n",
    "    return get_sub_packets(binInput, packet)\n"
   ]
  },
  {
   "cell_type": "markdown",
   "metadata": {},
   "source": [
    "Get the literal values:"
   ]
  },
  {
   "cell_type": "code",
   "execution_count": 56,
   "metadata": {},
   "outputs": [],
   "source": [
    "def get_literal_value(binInput):\n",
    "    remaining_bits = binInput\n",
    "    not_last_bits = True\n",
    "    bin_digits = \"\"\n",
    "    while not_last_bits:\n",
    "        not_last_bits = remaining_bits[0] != '0'\n",
    "        digit_chunk = remaining_bits[1:5]\n",
    "        remaining_bits = remaining_bits[5:]\n",
    "        bin_digits = bin_digits + digit_chunk\n",
    "    dec_var = int(bin_digits, 2)\n",
    "    return dec_var, remaining_bits"
   ]
  },
  {
   "cell_type": "markdown",
   "metadata": {},
   "source": [
    "Get the subpackets. Those with 4 don't have one"
   ]
  },
  {
   "cell_type": "code",
   "execution_count": 57,
   "metadata": {},
   "outputs": [],
   "source": [
    "def get_sub_packets(ori_bits, packet):\n",
    "    len_type_id = ori_bits[6]\n",
    "    if len_type_id == '0':\n",
    "        len_subpackets = int(ori_bits[7:22],2)\n",
    "        sub_packet_remaining = ori_bits[22:22+len_subpackets]\n",
    "        bit_remaining = ori_bits[22+len_subpackets:]\n",
    "        while len(sub_packet_remaining) > 0:\n",
    "            sub_packet , sub_packet_remaining = build_the_tree(sub_packet_remaining)\n",
    "            packet['children_info'].append(sub_packet)\n",
    "    else:\n",
    "        num_subpackets = int(ori_bits[7:18],2)\n",
    "        bit_remaining = ori_bits[18:]\n",
    "        for _ in range(num_subpackets):\n",
    "            sub_packet, bit_remaining = build_the_tree(bit_remaining)\n",
    "            packet['children_info'].append(sub_packet)\n",
    "    return packet, bit_remaining"
   ]
  },
  {
   "cell_type": "code",
   "execution_count": 58,
   "metadata": {},
   "outputs": [],
   "source": [
    "tree_info, _ = build_the_tree(data_res_bin)"
   ]
  },
  {
   "cell_type": "code",
   "execution_count": 59,
   "metadata": {},
   "outputs": [],
   "source": [
    "def get_version_sum(packet_tree):\n",
    "    return (\n",
    "        packet_tree[\"version\"]\n",
    "        + sum(get_version_sum(child) for child in packet_tree[\"children_info\"])\n",
    "    )"
   ]
  },
  {
   "cell_type": "code",
   "execution_count": 60,
   "metadata": {},
   "outputs": [
    {
     "data": {
      "text/plain": [
       "947"
      ]
     },
     "execution_count": 60,
     "metadata": {},
     "output_type": "execute_result"
    }
   ],
   "source": [
    "get_version_sum(tree_info)"
   ]
  },
  {
   "cell_type": "code",
   "execution_count": 61,
   "metadata": {},
   "outputs": [],
   "source": [
    "def get_value(packet_tree):\n",
    "    if packet_tree[\"type_ID\"] == 0:\n",
    "        return sum(get_value(child) for child in packet_tree[\"children_info\"])\n",
    "    if packet_tree[\"type_ID\"] == 1:\n",
    "        return reduce(mul, (get_value(child) for child in packet_tree[\"children_info\"]), 1)\n",
    "    if packet_tree[\"type_ID\"] == 2:\n",
    "        return min(get_value(child) for child in packet_tree[\"children_info\"])\n",
    "    if packet_tree[\"type_ID\"] == 3:\n",
    "        return max(get_value(child) for child in packet_tree[\"children_info\"])\n",
    "    if packet_tree[\"type_ID\"] == 4:\n",
    "        return packet_tree[\"value\"]\n",
    "    if packet_tree[\"type_ID\"] == 5:\n",
    "        return int(get_value(packet_tree[\"children_info\"][0])\n",
    "                   > get_value(packet_tree[\"children_info\"][1]))\n",
    "    if packet_tree[\"type_ID\"] == 6:\n",
    "        return int(get_value(packet_tree[\"children_info\"][0])\n",
    "                   < get_value(packet_tree[\"children_info\"][1]))\n",
    "    if packet_tree[\"type_ID\"] == 7:\n",
    "        return int(get_value(packet_tree[\"children_info\"][0])\n",
    "                   == get_value(packet_tree[\"children_info\"][1]))\n",
    "    raise RuntimeError(f\"Invalid type id {packet_tree['type_ID']}\")"
   ]
  },
  {
   "cell_type": "code",
   "execution_count": 62,
   "metadata": {},
   "outputs": [
    {
     "data": {
      "text/plain": [
       "660797830937"
      ]
     },
     "execution_count": 62,
     "metadata": {},
     "output_type": "execute_result"
    }
   ],
   "source": [
    "get_value(tree_info)"
   ]
  }
 ],
 "metadata": {
  "interpreter": {
   "hash": "13eb0af71620a846e484681143862ad0a4deab6cadfc353264e5c14897c11035"
  },
  "kernelspec": {
   "display_name": "Python 3.9.9 64-bit",
   "language": "python",
   "name": "python3"
  },
  "language_info": {
   "name": "python",
   "version": "3.9.9"
  },
  "orig_nbformat": 4
 },
 "nbformat": 4,
 "nbformat_minor": 2
}
