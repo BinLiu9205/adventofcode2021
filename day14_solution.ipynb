{
 "cells": [
  {
   "cell_type": "code",
   "execution_count": 43,
   "metadata": {},
   "outputs": [],
   "source": [
    "import collections"
   ]
  },
  {
   "cell_type": "code",
   "execution_count": 44,
   "metadata": {},
   "outputs": [],
   "source": [
    "ori = 'KHSSCSKKCPFKPPBBOKVF'\n",
    "#ori = 'NNCB'"
   ]
  },
  {
   "cell_type": "code",
   "execution_count": 45,
   "metadata": {},
   "outputs": [],
   "source": [
    "rule_dict = {}"
   ]
  },
  {
   "cell_type": "code",
   "execution_count": 46,
   "metadata": {},
   "outputs": [],
   "source": [
    "with open ('./inputDay14_chain_rule.txt') as file:\n",
    "    for line in file.readlines():\n",
    "        a, b = line.strip().split('->')\n",
    "        rule_dict[a[:-1]] = b[1:]"
   ]
  },
  {
   "cell_type": "code",
   "execution_count": 47,
   "metadata": {},
   "outputs": [],
   "source": [
    "def poly_chain(ori, step_no, rule_dict):\n",
    "    for i in range(step_no):\n",
    "        ori_step1 = ori[:-1]\n",
    "        ori_step2 = ori[1:]\n",
    "        for k in range(len(ori_step1)):\n",
    "            insert_res = rule_dict[ori_step1[k]+ori_step2[k]]\n",
    "            ori = ori[:(2*k+1)] + insert_res + ori[(2*k+1):]\n",
    "    return ori"
   ]
  },
  {
   "cell_type": "code",
   "execution_count": 48,
   "metadata": {},
   "outputs": [],
   "source": [
    "new_ori = poly_chain(ori, 10, rule_dict)"
   ]
  },
  {
   "cell_type": "code",
   "execution_count": 49,
   "metadata": {},
   "outputs": [],
   "source": [
    "c = collections.Counter(new_ori)"
   ]
  },
  {
   "cell_type": "code",
   "execution_count": 50,
   "metadata": {},
   "outputs": [
    {
     "data": {
      "text/plain": [
       "5656"
      ]
     },
     "execution_count": 50,
     "metadata": {},
     "output_type": "execute_result"
    }
   ],
   "source": [
    "c.most_common()[0][1] - c.most_common()[-1][1]"
   ]
  },
  {
   "cell_type": "code",
   "execution_count": 51,
   "metadata": {},
   "outputs": [],
   "source": [
    "tem_res = []"
   ]
  },
  {
   "cell_type": "code",
   "execution_count": 52,
   "metadata": {},
   "outputs": [],
   "source": [
    "ori_step1 = ori[:-1]\n",
    "ori_step2 = ori[1:]\n",
    "for k in range(len(ori_step1)):\n",
    "    tem_res.append(ori_step1[k]+ori_step2[k])\n",
    "counter_dict = collections.Counter(tem_res)"
   ]
  },
  {
   "cell_type": "code",
   "execution_count": 53,
   "metadata": {},
   "outputs": [],
   "source": [
    "def poly_chain_new(counter_dict, step_no, rule_dict):\n",
    "    for i in range(step_no):\n",
    "        counter_dict_tem = {}\n",
    "        for key in counter_dict:\n",
    "            nr = counter_dict[key]\n",
    "            insert_res = rule_dict[key]\n",
    "            new_key1 = key[0] + insert_res\n",
    "            new_key2 = insert_res + key[1]\n",
    "            if new_key1 in counter_dict_tem:\n",
    "                counter_dict_tem[new_key1] = counter_dict_tem[new_key1] + nr\n",
    "            else:\n",
    "                counter_dict_tem[new_key1] = nr\n",
    "            if new_key2 in counter_dict_tem:\n",
    "                counter_dict_tem[new_key2] = counter_dict_tem[new_key2] + nr\n",
    "            else:\n",
    "                counter_dict_tem[new_key2] = nr\n",
    "        counter_dict = counter_dict_tem    \n",
    "    return counter_dict"
   ]
  },
  {
   "cell_type": "code",
   "execution_count": 54,
   "metadata": {},
   "outputs": [],
   "source": [
    "res_dict = poly_chain_new(counter_dict, 40, rule_dict)"
   ]
  },
  {
   "cell_type": "code",
   "execution_count": 55,
   "metadata": {},
   "outputs": [],
   "source": [
    "counter_res = {}\n",
    "for key in res_dict:\n",
    "    val = res_dict[key]\n",
    "    char1 = key[0]\n",
    "    char2 = key[1]\n",
    "    if char1 not in counter_res:\n",
    "        counter_res[char1] = val\n",
    "    else:\n",
    "        counter_res[char1] = counter_res[char1] + val\n",
    "    if char2 not in counter_res:\n",
    "        counter_res[char2] = val\n",
    "    else:\n",
    "        counter_res[char2] = counter_res[char2] + val"
   ]
  },
  {
   "cell_type": "code",
   "execution_count": 56,
   "metadata": {},
   "outputs": [],
   "source": [
    "starter = ori[0]\n",
    "end = ori[-1]"
   ]
  },
  {
   "cell_type": "code",
   "execution_count": 57,
   "metadata": {},
   "outputs": [],
   "source": [
    "for key in counter_res:\n",
    "    if key != starter and key != end:\n",
    "        counter_res[key] = int(counter_res[key]/2)\n",
    "    else:\n",
    "        counter_res[key] = int((counter_res[key] +1)/2)"
   ]
  },
  {
   "cell_type": "code",
   "execution_count": 58,
   "metadata": {},
   "outputs": [
    {
     "name": "stdout",
     "output_type": "stream",
     "text": [
      "12271437788530\n"
     ]
    }
   ],
   "source": [
    "print(max(counter_res.values())- min(counter_res.values()))"
   ]
  }
 ],
 "metadata": {
  "interpreter": {
   "hash": "13eb0af71620a846e484681143862ad0a4deab6cadfc353264e5c14897c11035"
  },
  "kernelspec": {
   "display_name": "Python 3.9.9 64-bit",
   "language": "python",
   "name": "python3"
  },
  "language_info": {
   "codemirror_mode": {
    "name": "ipython",
    "version": 3
   },
   "file_extension": ".py",
   "mimetype": "text/x-python",
   "name": "python",
   "nbconvert_exporter": "python",
   "pygments_lexer": "ipython3",
   "version": "3.9.9"
  },
  "orig_nbformat": 4
 },
 "nbformat": 4,
 "nbformat_minor": 2
}
