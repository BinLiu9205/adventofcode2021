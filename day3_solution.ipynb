{
 "cells": [
  {
   "cell_type": "code",
   "execution_count": 39,
   "metadata": {},
   "outputs": [],
   "source": [
    "import pandas as pd\n",
    "from collections import Counter"
   ]
  },
  {
   "cell_type": "code",
   "execution_count": 40,
   "metadata": {},
   "outputs": [],
   "source": [
    "df = pd.read_csv('inputDay3.txt', sep=\" \", header=None, dtype=str)"
   ]
  },
  {
   "cell_type": "code",
   "execution_count": 41,
   "metadata": {},
   "outputs": [
    {
     "data": {
      "text/html": [
       "<div>\n",
       "<style scoped>\n",
       "    .dataframe tbody tr th:only-of-type {\n",
       "        vertical-align: middle;\n",
       "    }\n",
       "\n",
       "    .dataframe tbody tr th {\n",
       "        vertical-align: top;\n",
       "    }\n",
       "\n",
       "    .dataframe thead th {\n",
       "        text-align: right;\n",
       "    }\n",
       "</style>\n",
       "<table border=\"1\" class=\"dataframe\">\n",
       "  <thead>\n",
       "    <tr style=\"text-align: right;\">\n",
       "      <th></th>\n",
       "      <th>0</th>\n",
       "    </tr>\n",
       "  </thead>\n",
       "  <tbody>\n",
       "    <tr>\n",
       "      <th>0</th>\n",
       "      <td>101000001100</td>\n",
       "    </tr>\n",
       "    <tr>\n",
       "      <th>1</th>\n",
       "      <td>011111100111</td>\n",
       "    </tr>\n",
       "    <tr>\n",
       "      <th>2</th>\n",
       "      <td>111100001110</td>\n",
       "    </tr>\n",
       "  </tbody>\n",
       "</table>\n",
       "</div>"
      ],
      "text/plain": [
       "              0\n",
       "0  101000001100\n",
       "1  011111100111\n",
       "2  111100001110"
      ]
     },
     "execution_count": 41,
     "metadata": {},
     "output_type": "execute_result"
    }
   ],
   "source": [
    "df.head(3)"
   ]
  },
  {
   "cell_type": "code",
   "execution_count": 42,
   "metadata": {},
   "outputs": [
    {
     "data": {
      "text/plain": [
       "0"
      ]
     },
     "execution_count": 42,
     "metadata": {},
     "output_type": "execute_result"
    }
   ],
   "source": [
    "df.columns[0]"
   ]
  },
  {
   "cell_type": "code",
   "execution_count": 43,
   "metadata": {},
   "outputs": [],
   "source": [
    "df_list = df[0].tolist()"
   ]
  },
  {
   "cell_type": "code",
   "execution_count": 44,
   "metadata": {},
   "outputs": [],
   "source": [
    "def find_most_repeat(List):\n",
    "    occurence_count = Counter(List)\n",
    "    max = 0\n",
    "    max_key = \"start\"\n",
    "    for key in occurence_count:\n",
    "        if occurence_count[key] > max:\n",
    "            max_key = key\n",
    "            max = occurence_count[key]\n",
    "        elif occurence_count[key] == max:\n",
    "            max_key = 1\n",
    "            max = occurence_count[key]\n",
    "    return max_key"
   ]
  },
  {
   "cell_type": "code",
   "execution_count": 45,
   "metadata": {},
   "outputs": [],
   "source": [
    "def submarinesPart1(df):\n",
    "    len_num = len(df.iloc[0,0])\n",
    "    char_list = []\n",
    "    res = []\n",
    "    for i in range(len_num):\n",
    "        char_list = df[0].apply(lambda x: str(x)[i])\n",
    "        res.append(find_most_repeat(char_list))\n",
    "    res_gamma = ''.join(str(char) for char in res)\n",
    "    res = [1-int(val) for val in res_gamma]\n",
    "    res_epsilon =  ''.join(str(char) for char in res)\n",
    "    print(res_epsilon)\n",
    "    print(res_gamma)\n",
    "    return(int(res_epsilon,2)*int(res_gamma,2))"
   ]
  },
  {
   "cell_type": "code",
   "execution_count": 46,
   "metadata": {},
   "outputs": [
    {
     "name": "stdout",
     "output_type": "stream",
     "text": [
      "000100011111\n",
      "111011100000\n"
     ]
    },
    {
     "data": {
      "text/plain": [
       "1092896"
      ]
     },
     "execution_count": 46,
     "metadata": {},
     "output_type": "execute_result"
    }
   ],
   "source": [
    "submarinesPart1(df)"
   ]
  },
  {
   "cell_type": "code",
   "execution_count": 55,
   "metadata": {},
   "outputs": [],
   "source": [
    "def find_most_common(res_list, counter):\n",
    "    char_list = list(map(lambda x: x[counter], res_list))\n",
    "    common_digit = find_most_repeat(char_list)\n",
    "    int_idx = [i for i in range(len(char_list)) if char_list[i] == str(common_digit)]\n",
    "    tem = [res_list[i] for i in int_idx] \n",
    "    return tem\n",
    "\n",
    "def find_most_uncommon(res_list, counter):\n",
    "    char_list = list(map(lambda x: x[counter], res_list))\n",
    "    uncommon_digit = str(1-int(find_most_repeat(char_list)))\n",
    "    int_idx = [i for i in range(len(char_list)) if char_list[i] == str(uncommon_digit)]\n",
    "    tem = [res_list[i] for i in int_idx] \n",
    "    return tem\n",
    "    "
   ]
  },
  {
   "cell_type": "code",
   "execution_count": 76,
   "metadata": {},
   "outputs": [],
   "source": [
    "res_list = df_list\n",
    "for i in range(len(df.iloc[0,0])):\n",
    "    if len(res_list) > 1:\n",
    "        res_list = find_most_common(res_list, i)\n",
    "    else:\n",
    "        break\n",
    "\n",
    "o2_res = res_list[0]\n",
    "\n",
    "res_list = df_list\n",
    "for i in range(len(df.iloc[0,0])):\n",
    "    if len(res_list) > 1:\n",
    "        res_list = find_most_uncommon(res_list, i)\n",
    "    else:\n",
    "        break\n",
    "\n",
    "co2_res = res_list[0]\n"
   ]
  },
  {
   "cell_type": "code",
   "execution_count": 77,
   "metadata": {},
   "outputs": [
    {
     "data": {
      "text/plain": [
       "4672151"
      ]
     },
     "execution_count": 77,
     "metadata": {},
     "output_type": "execute_result"
    }
   ],
   "source": [
    "res = int(o2_res,2)*int(co2_res,2)\n",
    "res"
   ]
  }
 ],
 "metadata": {
  "interpreter": {
   "hash": "13eb0af71620a846e484681143862ad0a4deab6cadfc353264e5c14897c11035"
  },
  "kernelspec": {
   "display_name": "Python 3.9.9 64-bit",
   "language": "python",
   "name": "python3"
  },
  "language_info": {
   "codemirror_mode": {
    "name": "ipython",
    "version": 3
   },
   "file_extension": ".py",
   "mimetype": "text/x-python",
   "name": "python",
   "nbconvert_exporter": "python",
   "pygments_lexer": "ipython3",
   "version": "3.9.9"
  },
  "orig_nbformat": 4
 },
 "nbformat": 4,
 "nbformat_minor": 2
}
