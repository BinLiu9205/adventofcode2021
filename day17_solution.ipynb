{
 "cells": [
  {
   "cell_type": "markdown",
   "metadata": {},
   "source": [
    "To have the highest position in y, we have to make sure when it reached the lower boundary of y, it has a vertical velocity of 0. Assume the initial value is Ny, the last value should be 0. It turns into Ny, Ny-1, Ny-2 ... 0. The highest y position is the sum of them, which is y*(y+1)/2"
   ]
  },
  {
   "cell_type": "code",
   "execution_count": 22,
   "metadata": {},
   "outputs": [],
   "source": [
    "y = -129"
   ]
  },
  {
   "cell_type": "code",
   "execution_count": 23,
   "metadata": {},
   "outputs": [
    {
     "data": {
      "text/plain": [
       "8256"
      ]
     },
     "execution_count": 23,
     "metadata": {},
     "output_type": "execute_result"
    }
   ],
   "source": [
    "y*(y+1)//2"
   ]
  },
  {
   "cell_type": "code",
   "execution_count": null,
   "metadata": {},
   "outputs": [],
   "source": [
    "#adapted from https://github.com/AeroFlorian/AdventOfCode2021-python/blob/master/Day17.py"
   ]
  },
  {
   "cell_type": "code",
   "execution_count": 24,
   "metadata": {},
   "outputs": [],
   "source": [
    "def target_part_2():\n",
    "    input_list = input.split('=')\n",
    "    x_str = input_list[1].split(',')[0]\n",
    "    y_str = input_list[2]\n",
    "    a_x = list(map(int, x_str.split('..')))\n",
    "    a_y = list(map(int, y_str.split('..')))\n",
    "    # finding xs with velocity 0 at the end\n",
    "    can_x = []\n",
    "    for x in range(0, a_x[1] +1):\n",
    "        v = x\n",
    "        l = 0\n",
    "        while(l < a_x[1] and l not in range(a_x[0], a_x[1]+1)) and v > 0:\n",
    "            l+=v\n",
    "            v-= 1\n",
    "        if l in range(a_x[0], a_x[1]+1):\n",
    "            can_x.append(x)\n",
    "    can_v = []\n",
    "    for velo in range(a_y[0], -a_y[0]):\n",
    "        for x in can_x:\n",
    "            l = 0\n",
    "            x_x = 0\n",
    "            v = velo\n",
    "            v_x = x\n",
    "            while (l > a_y[0] and l not in range(a_y[0], a_y[1] + 1) and x_x <= a_x[1]):\n",
    "                l += v\n",
    "                x_x+= v_x\n",
    "                v_x =max([0, v_x -1])\n",
    "                v -= 1\n",
    "            if l in range(a_y[0], a_y[1] + 1) and x_x in range(a_x[0], a_x[1]+1):\n",
    "                can_v.append((x, velo))\n",
    "            else:\n",
    "                #checking the probes that are on the left of the area, but not yet in the area\n",
    "                while x_x <= a_x[1] and x_x not in range(a_x[0], a_x[1]+1):\n",
    "                    l += v\n",
    "                    x_x += v_x\n",
    "                    v_x = max([0, v_x - 1])\n",
    "                    v -= 1\n",
    "                if l in range(a_y[0], a_y[1] + 1) and x_x in range(a_x[0], a_x[1] + 1):\n",
    "                    can_v.append((x, velo))\n",
    "    print(f\"Second star: {len(can_v)}\")\n"
   ]
  },
  {
   "cell_type": "code",
   "execution_count": 25,
   "metadata": {},
   "outputs": [],
   "source": [
    "input = \"\"\"target area: x=150..171, y=-129..-70\"\"\""
   ]
  },
  {
   "cell_type": "code",
   "execution_count": 26,
   "metadata": {},
   "outputs": [
    {
     "name": "stdout",
     "output_type": "stream",
     "text": [
      "Second star: 2326\n"
     ]
    }
   ],
   "source": [
    "target_part_2()"
   ]
  }
 ],
 "metadata": {
  "interpreter": {
   "hash": "13eb0af71620a846e484681143862ad0a4deab6cadfc353264e5c14897c11035"
  },
  "kernelspec": {
   "display_name": "Python 3.9.9 64-bit",
   "language": "python",
   "name": "python3"
  },
  "language_info": {
   "codemirror_mode": {
    "name": "ipython",
    "version": 3
   },
   "file_extension": ".py",
   "mimetype": "text/x-python",
   "name": "python",
   "nbconvert_exporter": "python",
   "pygments_lexer": "ipython3",
   "version": "3.9.9"
  },
  "orig_nbformat": 4
 },
 "nbformat": 4,
 "nbformat_minor": 2
}
