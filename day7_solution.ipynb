{
 "cells": [
  {
   "cell_type": "code",
   "execution_count": 1,
   "metadata": {},
   "outputs": [],
   "source": [
    "import pandas as pd \n",
    "import numpy as np\n",
    "from collections import Counter\n"
   ]
  },
  {
   "cell_type": "code",
   "execution_count": 2,
   "metadata": {},
   "outputs": [],
   "source": [
    "with open(\"inputDay7.txt\") as file_in:\n",
    "    lines = [x.rstrip() for x in file_in]\n"
   ]
  },
  {
   "cell_type": "code",
   "execution_count": 3,
   "metadata": {},
   "outputs": [],
   "source": [
    "input_f = lines[0].split(',')"
   ]
  },
  {
   "cell_type": "code",
   "execution_count": 4,
   "metadata": {},
   "outputs": [],
   "source": [
    "input_f = [int(x) for x in input_f]"
   ]
  },
  {
   "cell_type": "code",
   "execution_count": 5,
   "metadata": {},
   "outputs": [
    {
     "data": {
      "text/plain": [
       "[1101, 1, 29, 67, 1102]"
      ]
     },
     "execution_count": 5,
     "metadata": {},
     "output_type": "execute_result"
    }
   ],
   "source": [
    "input_f[0:5]"
   ]
  },
  {
   "cell_type": "code",
   "execution_count": 6,
   "metadata": {},
   "outputs": [],
   "source": [
    "range_max = max(input_f)\n",
    "current_min = 2**31-1"
   ]
  },
  {
   "cell_type": "code",
   "execution_count": 7,
   "metadata": {},
   "outputs": [
    {
     "name": "stdout",
     "output_type": "stream",
     "text": [
      "372\n",
      "337488\n"
     ]
    }
   ],
   "source": [
    "for i in range(range_max+1):\n",
    "    sum_range = 0\n",
    "    for k in input_f:\n",
    "        sum_range = sum_range + abs(k-i)\n",
    "        if sum_range > current_min:\n",
    "            break\n",
    "\n",
    "    if sum_range < current_min:\n",
    "        current_fit = i\n",
    "        current_min = sum_range\n",
    "    \n",
    "print(current_fit)\n",
    "print(current_min)\n"
   ]
  },
  {
   "cell_type": "code",
   "execution_count": 8,
   "metadata": {},
   "outputs": [],
   "source": [
    "def new_sum(inputValue):\n",
    "    res = 0\n",
    "    for i in range(inputValue):\n",
    "        res += i+1\n",
    "    return res\n"
   ]
  },
  {
   "cell_type": "code",
   "execution_count": 9,
   "metadata": {},
   "outputs": [
    {
     "name": "stdout",
     "output_type": "stream",
     "text": [
      "480\n",
      "89647695\n"
     ]
    }
   ],
   "source": [
    "current_min = 2**31-1\n",
    "for i in range(range_max+1):\n",
    "    sum_range = 0\n",
    "    for k in input_f:\n",
    "        tem = new_sum(abs(k-i))\n",
    "        sum_range = sum_range + tem\n",
    "        if sum_range > current_min:\n",
    "            break\n",
    "\n",
    "    if sum_range < current_min:\n",
    "        current_fit = i\n",
    "        current_min = sum_range\n",
    "    \n",
    "print(current_fit)\n",
    "print(current_min)"
   ]
  }
 ],
 "metadata": {
  "interpreter": {
   "hash": "13eb0af71620a846e484681143862ad0a4deab6cadfc353264e5c14897c11035"
  },
  "kernelspec": {
   "display_name": "Python 3.9.9 64-bit",
   "language": "python",
   "name": "python3"
  },
  "language_info": {
   "codemirror_mode": {
    "name": "ipython",
    "version": 3
   },
   "file_extension": ".py",
   "mimetype": "text/x-python",
   "name": "python",
   "nbconvert_exporter": "python",
   "pygments_lexer": "ipython3",
   "version": "3.9.9"
  },
  "orig_nbformat": 4
 },
 "nbformat": 4,
 "nbformat_minor": 2
}
