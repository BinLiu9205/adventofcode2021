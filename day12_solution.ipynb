{
 "cells": [
  {
   "cell_type": "code",
   "execution_count": 31,
   "metadata": {},
   "outputs": [],
   "source": [
    "from collections import defaultdict"
   ]
  },
  {
   "cell_type": "code",
   "execution_count": 32,
   "metadata": {},
   "outputs": [],
   "source": [
    "data_res = defaultdict(list)"
   ]
  },
  {
   "cell_type": "code",
   "execution_count": 33,
   "metadata": {},
   "outputs": [],
   "source": [
    "with open('./inputDay12.txt') as f:\n",
    "    for line in f.readlines():\n",
    "        pair = line.strip().split('-')\n",
    "        for p1, p2 in zip(pair, reversed(pair)):\n",
    "            if p2 != 'start':\n",
    "                data_res[p1].append(p2)\n",
    "    del data_res['end']\n"
   ]
  },
  {
   "cell_type": "code",
   "execution_count": 34,
   "metadata": {},
   "outputs": [
    {
     "data": {
      "text/plain": [
       "defaultdict(list,\n",
       "            {'start': ['kc', 'zw', 'UI'],\n",
       "             'pd': ['NV', 'UI', 'ih', 'kc', 'ks', 'MF'],\n",
       "             'NV': ['pd', 'ih', 'zw', 'ks'],\n",
       "             'UI': ['pd', 'kc', 'zw'],\n",
       "             'HK': ['end', 'zw', 'kc', 'ih', 'ks'],\n",
       "             'kc': ['UI', 'zw', 'HK', 'pd', 'MF'],\n",
       "             'ih': ['pd', 'end', 'HK', 'NV'],\n",
       "             'zw': ['kc', 'HK', 'UI', 'NV'],\n",
       "             'ks': ['end', 'LF', 'pd', 'HK', 'NV'],\n",
       "             'MF': ['mq', 'pd', 'kc'],\n",
       "             'mq': ['MF'],\n",
       "             'LF': ['ks']})"
      ]
     },
     "execution_count": 34,
     "metadata": {},
     "output_type": "execute_result"
    }
   ],
   "source": [
    "data_res"
   ]
  },
  {
   "cell_type": "code",
   "execution_count": 44,
   "metadata": {},
   "outputs": [],
   "source": [
    "def find_path_part1(data_res, path_old=['start']):\n",
    "    final = 0\n",
    "    for j in data_res[path_old[-1]]:\n",
    "        if j.isupper() or not j in path_old:\n",
    "            final += 1 if j == 'end' else find_path_part1(data_res, path_old + [j])\n",
    "    return final"
   ]
  },
  {
   "cell_type": "code",
   "execution_count": 45,
   "metadata": {},
   "outputs": [
    {
     "name": "stdout",
     "output_type": "stream",
     "text": [
      "4720\n"
     ]
    }
   ],
   "source": [
    "print(find_path_part1(data_res))"
   ]
  },
  {
   "cell_type": "code",
   "execution_count": 52,
   "metadata": {},
   "outputs": [],
   "source": [
    "def find_path_part2(data_res, path_old =['start']):\n",
    "    final = 0\n",
    "    for j in data_res[path_old[-1]]:\n",
    "        final += 1 if j =='end' else (find_path_part2,find_path_part1)[j.islower() and j in path_old](data_res, path_old + [j]) \n",
    "            \n",
    "    return final\n"
   ]
  },
  {
   "cell_type": "code",
   "execution_count": 53,
   "metadata": {},
   "outputs": [
    {
     "name": "stdout",
     "output_type": "stream",
     "text": [
      "147848\n"
     ]
    }
   ],
   "source": [
    "print(find_path_part2(data_res))"
   ]
  }
 ],
 "metadata": {
  "interpreter": {
   "hash": "13eb0af71620a846e484681143862ad0a4deab6cadfc353264e5c14897c11035"
  },
  "kernelspec": {
   "display_name": "Python 3.9.9 64-bit",
   "language": "python",
   "name": "python3"
  },
  "language_info": {
   "codemirror_mode": {
    "name": "ipython",
    "version": 3
   },
   "file_extension": ".py",
   "mimetype": "text/x-python",
   "name": "python",
   "nbconvert_exporter": "python",
   "pygments_lexer": "ipython3",
   "version": "3.9.9"
  },
  "orig_nbformat": 4
 },
 "nbformat": 4,
 "nbformat_minor": 2
}
