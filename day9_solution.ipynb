{
 "cells": [
  {
   "cell_type": "code",
   "execution_count": 1,
   "metadata": {},
   "outputs": [],
   "source": [
    "with open('./inputDay9.txt') as file:\n",
    "    data = file.read().splitlines()\n",
    "heightmap = list(list(int(x) for x in list(line)) for line in data)"
   ]
  },
  {
   "cell_type": "code",
   "execution_count": 7,
   "metadata": {},
   "outputs": [],
   "source": [
    "def find_neighbours(x, y, max_x, max_y, heightmap):\n",
    "    neighbors = []\n",
    "    coord = []\n",
    "    if x > 0:\n",
    "        neighbors.append(heightmap[y][x - 1])\n",
    "        coord.append([x-1, y])\n",
    "    if x < max_x:\n",
    "        neighbors.append(heightmap[y][x + 1])\n",
    "        coord.append([x+1, y])\n",
    "    if y > 0:\n",
    "        neighbors.append(heightmap[y - 1][x])\n",
    "        coord.append([x, y-1])\n",
    "    if y < max_y:\n",
    "        neighbors.append(heightmap[y + 1][x])\n",
    "        coord.append([x, y+1])\n",
    "    return neighbors, coord"
   ]
  },
  {
   "cell_type": "code",
   "execution_count": 8,
   "metadata": {},
   "outputs": [],
   "source": [
    "max_x = len(heightmap[0]) - 1\n",
    "max_y = len(heightmap) - 1\n",
    "fit_point = []\n",
    "current_x = []\n",
    "current_y = []\n",
    "for y in range(max_y + 1):\n",
    "    for x in range(max_x + 1):\n",
    "        res = heightmap[y][x]\n",
    "        neighbors, _ = find_neighbours(x , y , max_x, max_y, heightmap)\n",
    "        if min(neighbors) > res:\n",
    "            fit_point.append(res)\n",
    "            current_x.append(x)\n",
    "            current_y.append(y)"
   ]
  },
  {
   "cell_type": "code",
   "execution_count": 9,
   "metadata": {},
   "outputs": [
    {
     "name": "stdout",
     "output_type": "stream",
     "text": [
      "[4, 0, 0, 4, 1, 2, 2, 0, 2, 1, 1, 2, 0, 2, 3, 3, 1, 1, 0, 1, 1, 3, 0, 3, 0, 2, 0, 0, 4, 2, 2, 1, 4, 1, 1, 1, 4, 0, 3, 6, 3, 0, 0, 4, 1, 2, 1, 0, 0, 0, 0, 1, 2, 1, 0, 1, 1, 0, 1, 5, 5, 1, 4, 0, 2, 1, 3, 0, 0, 0, 1, 3, 0, 2, 3, 0, 2, 1, 1, 0, 2, 3, 0, 4, 1, 5, 3, 0, 4, 0, 1, 0, 0, 0, 0, 0, 1, 2, 0, 0, 2, 1, 1, 1, 0, 2, 0, 2, 0, 2, 4, 3, 1, 4, 2, 0, 0, 0, 0, 5, 0, 0, 0, 0, 4, 1, 2, 0, 0, 0, 0, 0, 2, 2, 5, 3, 1, 0, 0, 5, 0, 0, 0, 0, 4, 2, 0, 0, 1, 1, 0, 6, 2, 2, 0, 0, 1, 1, 0, 2, 1, 1, 1, 3, 2, 0, 0, 0, 2, 1, 1, 0, 0, 0, 0, 2, 0, 0, 1, 3, 2, 4, 2, 4, 0, 1, 5, 0, 0, 0, 2, 0, 1, 1, 4, 3, 3, 2, 1, 5, 0, 4, 2, 4, 1, 1, 3, 1, 1, 2, 0, 2, 2, 2, 0, 0, 0, 0, 4, 1, 2, 2, 1, 0, 3, 3, 1, 2, 5, 0, 1, 1, 1, 3, 0, 3, 0, 0, 3, 0, 0, 4, 1, 5, 1, 2, 0, 1, 2]\n"
     ]
    }
   ],
   "source": [
    "print(fit_point)"
   ]
  },
  {
   "cell_type": "code",
   "execution_count": 10,
   "metadata": {},
   "outputs": [
    {
     "data": {
      "text/plain": [
       "607"
      ]
     },
     "execution_count": 10,
     "metadata": {},
     "output_type": "execute_result"
    }
   ],
   "source": [
    "sum(fit_point) + len(fit_point)"
   ]
  },
  {
   "cell_type": "code",
   "execution_count": 16,
   "metadata": {},
   "outputs": [],
   "source": [
    "def find_basins(origin, coord_used, max_x, max_y, heightmap):\n",
    "    for i in coord_used:\n",
    "        neighbors, coord = find_neighbours(i[0], i[1], max_x, max_y, heightmap)\n",
    "        for k in range(len(neighbors)):\n",
    "            if neighbors[k] != 9 and coord[k] not in coord_used:\n",
    "                origin.append(neighbors[k])\n",
    "                coord_used.append(coord[k])\n",
    "                find_basins(origin, coord_used, max_x, max_y, heightmap)\n",
    "\n",
    "    return len(coord_used)"
   ]
  },
  {
   "cell_type": "code",
   "execution_count": 17,
   "metadata": {},
   "outputs": [],
   "source": [
    "# The basin is surrounded by 9\n",
    "max_x = len(heightmap[0]) - 1\n",
    "max_y = len(heightmap) - 1\n",
    "current_x = []\n",
    "current_y = []\n",
    "current_max = []\n",
    "bs_length = []\n",
    "for y in range(max_y + 1):\n",
    "    for x in range(max_x + 1):\n",
    "        res = heightmap[y][x]\n",
    "        neighbors, coord = find_neighbours(x , y , max_x, max_y, heightmap)\n",
    "        if min(neighbors) > res:\n",
    "            bs_length.append(find_basins([res], [[x,y]], max_x, max_y, heightmap))\n",
    "    "
   ]
  },
  {
   "cell_type": "code",
   "execution_count": 22,
   "metadata": {},
   "outputs": [],
   "source": [
    "bs_length = sorted(bs_length,reverse=True)"
   ]
  },
  {
   "cell_type": "code",
   "execution_count": 23,
   "metadata": {},
   "outputs": [
    {
     "data": {
      "text/plain": [
       "900864"
      ]
     },
     "execution_count": 23,
     "metadata": {},
     "output_type": "execute_result"
    }
   ],
   "source": [
    "bs_length[0]*bs_length[1]*bs_length[2]"
   ]
  }
 ],
 "metadata": {
  "interpreter": {
   "hash": "13eb0af71620a846e484681143862ad0a4deab6cadfc353264e5c14897c11035"
  },
  "kernelspec": {
   "display_name": "Python 3.9.9 64-bit",
   "language": "python",
   "name": "python3"
  },
  "language_info": {
   "codemirror_mode": {
    "name": "ipython",
    "version": 3
   },
   "file_extension": ".py",
   "mimetype": "text/x-python",
   "name": "python",
   "nbconvert_exporter": "python",
   "pygments_lexer": "ipython3",
   "version": "3.9.9"
  },
  "orig_nbformat": 4
 },
 "nbformat": 4,
 "nbformat_minor": 2
}
